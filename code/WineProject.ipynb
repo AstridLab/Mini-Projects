{
  "nbformat": 4,
  "nbformat_minor": 0,
  "metadata": {
    "colab": {
      "provenance": []
    },
    "kernelspec": {
      "name": "python3",
      "display_name": "Python 3"
    },
    "language_info": {
      "name": "python"
    }
  },
  "cells": [
    {
      "cell_type": "markdown",
      "source": [
        "# Wine Project: Data Analysis and Classification\n",
        "**Goal:** Apply machine learning models to classify wine based on chemical features.  \n",
        "**Tools:** Python, pandas, scikit-learn, matplotlib, seaborn.\n"
      ],
      "metadata": {
        "id": "tyU5YVNyNM9Q"
      }
    },
    {
      "cell_type": "markdown",
      "source": [
        "## Load Dataset\n",
        "Import the dataset and take a first look at its structure.\n"
      ],
      "metadata": {
        "id": "kFW17dn1Nim2"
      }
    },
    {
      "cell_type": "markdown",
      "source": [
        "## Exploratory Data Analysis\n",
        "Vsualize feature distributions and correlations to better understand the data."
      ],
      "metadata": {
        "id": "GdUdK4Q4N3ta"
      }
    },
    {
      "cell_type": "markdown",
      "source": [
        "## Model Training\n",
        "Apply machine learning models (e.g., logistic regression, decision tree) to classify wine.\n"
      ],
      "metadata": {
        "id": "ULuHYN0ZN2Sw"
      }
    },
    {
      "cell_type": "markdown",
      "source": [
        "## Model Evaluation\n",
        "Evaluate model performance using accuracy, confusion matrix, and other metrics.\n"
      ],
      "metadata": {
        "id": "RdHEMLzgOglG"
      }
    },
    {
      "cell_type": "code",
      "execution_count": null,
      "metadata": {
        "id": "xqpGsTmJZ-iS"
      },
      "outputs": [],
      "source": [
        "from google.colab import files\n",
        "\n",
        "uploaded = files.upload()\n"
      ]
    },
    {
      "cell_type": "code",
      "source": [
        "import pandas as pd\n",
        "import matplotlib.pyplot as plt\n",
        "\n",
        "\n",
        "df = pd.read_csv(\"winequality-red.txt\", sep=\";\")\n",
        "df.head()\n"
      ],
      "metadata": {
        "id": "HaCNXJMmaKBf"
      },
      "execution_count": null,
      "outputs": []
    },
    {
      "cell_type": "code",
      "source": [
        "# Explore the dataset\n",
        "print(\"Dataset shape:\", df.shape)\n",
        "print(\"Columns:\", df.columns.tolist())\n",
        "print(\"Missing values:\\n\", df.isnull().sum())\n",
        "\n",
        "# Summary statistics\n",
        "df.describe()\n"
      ],
      "metadata": {
        "id": "DBAv6A2xaRAx"
      },
      "execution_count": null,
      "outputs": []
    },
    {
      "cell_type": "code",
      "source": [
        "# Simple analysis\n",
        "# Count of each quality score\n",
        "print(\"Quality counts:\\n\", df['quality'].value_counts().sort_index())\n",
        "\n",
        "# Average wine quality\n",
        "print(\"Average quality:\", df['quality'].mean())\n",
        "\n",
        "# Correlation between alcohol and quality\n",
        "print(\"Alcohol vs Quality correlation:\\n\", df[['alcohol','quality']].corr())\n"
      ],
      "metadata": {
        "id": "moZ0PxSHaeVM"
      },
      "execution_count": null,
      "outputs": []
    },
    {
      "cell_type": "code",
      "source": [
        "# Visualizations\n",
        "\n",
        "# Histogram of wine quality\n",
        "df['quality'].hist(bins=10)\n",
        "plt.xlabel(\"Wine Quality\")\n",
        "plt.ylabel(\"Count\")\n",
        "plt.title(\"Distribution of Wine Quality\")\n",
        "plt.show()\n",
        "\n",
        "# Scatter plot: Alcohol vs Quality\n",
        "df.plot(kind=\"scatter\", x=\"alcohol\", y=\"quality\", alpha=0.5)\n",
        "plt.title(\"Alcohol vs Wine Quality\")\n",
        "plt.show()\n"
      ],
      "metadata": {
        "id": "vg0U-qECapl4"
      },
      "execution_count": null,
      "outputs": []
    },
    {
      "cell_type": "markdown",
      "source": [
        "# Mini Conclusion\n",
        "- Most wines have a quality rating of 5–6.  \n",
        "- Alcohol content seems positively correlated with quality.  \n",
        "- Chemical properties like acidity and pH may influence perceived taste.\n"
      ],
      "metadata": {
        "id": "nrxUdrAGPCPf"
      }
    }
  ]
}